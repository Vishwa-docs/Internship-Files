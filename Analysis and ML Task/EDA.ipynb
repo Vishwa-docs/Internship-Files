{
 "cells": [
  {
   "cell_type": "code",
   "execution_count": 1,
   "id": "1ed63a1b",
   "metadata": {},
   "outputs": [],
   "source": [
    "! python3 -m venv env\n",
    "! source ./env/bin/activate"
   ]
  },
  {
   "cell_type": "code",
   "execution_count": 15,
   "id": "b4e2e3f3",
   "metadata": {},
   "outputs": [
    {
     "name": "stdout",
     "output_type": "stream",
     "text": [
      "Requirement already satisfied: pandas in /Users/daver/Anaconda_Files/anaconda3/lib/python3.9/site-packages (1.3.4)\n",
      "Requirement already satisfied: python-dateutil>=2.7.3 in /Users/daver/Anaconda_Files/anaconda3/lib/python3.9/site-packages (from pandas) (2.8.2)\n",
      "Requirement already satisfied: pytz>=2017.3 in /Users/daver/Anaconda_Files/anaconda3/lib/python3.9/site-packages (from pandas) (2021.3)\n",
      "Requirement already satisfied: numpy>=1.17.3 in /Users/daver/Anaconda_Files/anaconda3/lib/python3.9/site-packages (from pandas) (1.20.3)\n",
      "Requirement already satisfied: six>=1.5 in /Users/daver/Anaconda_Files/anaconda3/lib/python3.9/site-packages (from python-dateutil>=2.7.3->pandas) (1.16.0)\n",
      "Requirement already satisfied: numpy in /Users/daver/Anaconda_Files/anaconda3/lib/python3.9/site-packages (1.20.3)\n",
      "Requirement already satisfied: matplotlib in /Users/daver/Anaconda_Files/anaconda3/lib/python3.9/site-packages (3.4.3)\n",
      "Requirement already satisfied: numpy>=1.16 in /Users/daver/Anaconda_Files/anaconda3/lib/python3.9/site-packages (from matplotlib) (1.20.3)\n",
      "Requirement already satisfied: python-dateutil>=2.7 in /Users/daver/Anaconda_Files/anaconda3/lib/python3.9/site-packages (from matplotlib) (2.8.2)\n",
      "Requirement already satisfied: kiwisolver>=1.0.1 in /Users/daver/Anaconda_Files/anaconda3/lib/python3.9/site-packages (from matplotlib) (1.3.1)\n",
      "Requirement already satisfied: pyparsing>=2.2.1 in /Users/daver/Anaconda_Files/anaconda3/lib/python3.9/site-packages (from matplotlib) (3.0.4)\n",
      "Requirement already satisfied: cycler>=0.10 in /Users/daver/Anaconda_Files/anaconda3/lib/python3.9/site-packages (from matplotlib) (0.10.0)\n",
      "Requirement already satisfied: pillow>=6.2.0 in /Users/daver/Anaconda_Files/anaconda3/lib/python3.9/site-packages (from matplotlib) (8.4.0)\n",
      "Requirement already satisfied: six in /Users/daver/Anaconda_Files/anaconda3/lib/python3.9/site-packages (from cycler>=0.10->matplotlib) (1.16.0)\n",
      "Requirement already satisfied: seaborn in /Users/daver/Anaconda_Files/anaconda3/lib/python3.9/site-packages (0.11.2)\n",
      "Requirement already satisfied: pandas>=0.23 in /Users/daver/Anaconda_Files/anaconda3/lib/python3.9/site-packages (from seaborn) (1.3.4)\n",
      "Requirement already satisfied: numpy>=1.15 in /Users/daver/Anaconda_Files/anaconda3/lib/python3.9/site-packages (from seaborn) (1.20.3)\n",
      "Requirement already satisfied: matplotlib>=2.2 in /Users/daver/Anaconda_Files/anaconda3/lib/python3.9/site-packages (from seaborn) (3.4.3)\n",
      "Requirement already satisfied: scipy>=1.0 in /Users/daver/Anaconda_Files/anaconda3/lib/python3.9/site-packages (from seaborn) (1.7.1)\n",
      "Requirement already satisfied: pillow>=6.2.0 in /Users/daver/Anaconda_Files/anaconda3/lib/python3.9/site-packages (from matplotlib>=2.2->seaborn) (8.4.0)\n",
      "Requirement already satisfied: python-dateutil>=2.7 in /Users/daver/Anaconda_Files/anaconda3/lib/python3.9/site-packages (from matplotlib>=2.2->seaborn) (2.8.2)\n",
      "Requirement already satisfied: cycler>=0.10 in /Users/daver/Anaconda_Files/anaconda3/lib/python3.9/site-packages (from matplotlib>=2.2->seaborn) (0.10.0)\n",
      "Requirement already satisfied: pyparsing>=2.2.1 in /Users/daver/Anaconda_Files/anaconda3/lib/python3.9/site-packages (from matplotlib>=2.2->seaborn) (3.0.4)\n",
      "Requirement already satisfied: kiwisolver>=1.0.1 in /Users/daver/Anaconda_Files/anaconda3/lib/python3.9/site-packages (from matplotlib>=2.2->seaborn) (1.3.1)\n",
      "Requirement already satisfied: six in /Users/daver/Anaconda_Files/anaconda3/lib/python3.9/site-packages (from cycler>=0.10->matplotlib>=2.2->seaborn) (1.16.0)\n",
      "Requirement already satisfied: pytz>=2017.3 in /Users/daver/Anaconda_Files/anaconda3/lib/python3.9/site-packages (from pandas>=0.23->seaborn) (2021.3)\n"
     ]
    }
   ],
   "source": [
    "! pip3 install pandas\n",
    "! pip3 install numpy\n",
    "! pip3 install matplotlib\n",
    "! pip3 install seaborn"
   ]
  },
  {
   "cell_type": "markdown",
   "id": "1305b08d",
   "metadata": {},
   "source": [
    "### Reading and Cleaning Data"
   ]
  },
  {
   "cell_type": "code",
   "execution_count": 23,
   "id": "c35d2733",
   "metadata": {
    "scrolled": false
   },
   "outputs": [
    {
     "data": {
      "text/html": [
       "<div>\n",
       "<style scoped>\n",
       "    .dataframe tbody tr th:only-of-type {\n",
       "        vertical-align: middle;\n",
       "    }\n",
       "\n",
       "    .dataframe tbody tr th {\n",
       "        vertical-align: top;\n",
       "    }\n",
       "\n",
       "    .dataframe thead th {\n",
       "        text-align: right;\n",
       "    }\n",
       "</style>\n",
       "<table border=\"1\" class=\"dataframe\">\n",
       "  <thead>\n",
       "    <tr style=\"text-align: right;\">\n",
       "      <th></th>\n",
       "      <th>Gender</th>\n",
       "      <th>Age</th>\n",
       "      <th>Education</th>\n",
       "      <th>CurrentSmoker</th>\n",
       "      <th>CigsPerDay</th>\n",
       "      <th>BP Meds</th>\n",
       "      <th>PrevalentStroke</th>\n",
       "      <th>PrevalentHyp</th>\n",
       "      <th>Diabetes</th>\n",
       "      <th>Tot cholesterol</th>\n",
       "      <th>Systolic BP</th>\n",
       "      <th>Diastolic BP</th>\n",
       "      <th>BMI</th>\n",
       "      <th>HeartRate</th>\n",
       "      <th>Glucose</th>\n",
       "      <th>Heart-Att</th>\n",
       "    </tr>\n",
       "  </thead>\n",
       "  <tbody>\n",
       "    <tr>\n",
       "      <th>0</th>\n",
       "      <td>Male</td>\n",
       "      <td>39.0</td>\n",
       "      <td>4.0</td>\n",
       "      <td>0.0</td>\n",
       "      <td>0.0</td>\n",
       "      <td>0.0</td>\n",
       "      <td>0.0</td>\n",
       "      <td>0.0</td>\n",
       "      <td>0.0</td>\n",
       "      <td>195.0</td>\n",
       "      <td>106.0</td>\n",
       "      <td>70.0</td>\n",
       "      <td>26.97</td>\n",
       "      <td>80.0</td>\n",
       "      <td>77.0</td>\n",
       "      <td>0</td>\n",
       "    </tr>\n",
       "    <tr>\n",
       "      <th>1</th>\n",
       "      <td>Female</td>\n",
       "      <td>46.0</td>\n",
       "      <td>2.0</td>\n",
       "      <td>0.0</td>\n",
       "      <td>0.0</td>\n",
       "      <td>0.0</td>\n",
       "      <td>0.0</td>\n",
       "      <td>0.0</td>\n",
       "      <td>0.0</td>\n",
       "      <td>250.0</td>\n",
       "      <td>121.0</td>\n",
       "      <td>81.0</td>\n",
       "      <td>28.73</td>\n",
       "      <td>95.0</td>\n",
       "      <td>76.0</td>\n",
       "      <td>0</td>\n",
       "    </tr>\n",
       "    <tr>\n",
       "      <th>2</th>\n",
       "      <td>Male</td>\n",
       "      <td>48.0</td>\n",
       "      <td>1.0</td>\n",
       "      <td>1.0</td>\n",
       "      <td>20.0</td>\n",
       "      <td>0.0</td>\n",
       "      <td>0.0</td>\n",
       "      <td>0.0</td>\n",
       "      <td>0.0</td>\n",
       "      <td>245.0</td>\n",
       "      <td>127.5</td>\n",
       "      <td>80.0</td>\n",
       "      <td>25.34</td>\n",
       "      <td>75.0</td>\n",
       "      <td>70.0</td>\n",
       "      <td>0</td>\n",
       "    </tr>\n",
       "    <tr>\n",
       "      <th>3</th>\n",
       "      <td>Female</td>\n",
       "      <td>61.0</td>\n",
       "      <td>3.0</td>\n",
       "      <td>1.0</td>\n",
       "      <td>30.0</td>\n",
       "      <td>0.0</td>\n",
       "      <td>0.0</td>\n",
       "      <td>1.0</td>\n",
       "      <td>0.0</td>\n",
       "      <td>225.0</td>\n",
       "      <td>150.0</td>\n",
       "      <td>95.0</td>\n",
       "      <td>28.58</td>\n",
       "      <td>65.0</td>\n",
       "      <td>103.0</td>\n",
       "      <td>1</td>\n",
       "    </tr>\n",
       "    <tr>\n",
       "      <th>4</th>\n",
       "      <td>Female</td>\n",
       "      <td>46.0</td>\n",
       "      <td>3.0</td>\n",
       "      <td>1.0</td>\n",
       "      <td>23.0</td>\n",
       "      <td>0.0</td>\n",
       "      <td>0.0</td>\n",
       "      <td>0.0</td>\n",
       "      <td>0.0</td>\n",
       "      <td>285.0</td>\n",
       "      <td>130.0</td>\n",
       "      <td>84.0</td>\n",
       "      <td>23.10</td>\n",
       "      <td>85.0</td>\n",
       "      <td>85.0</td>\n",
       "      <td>0</td>\n",
       "    </tr>\n",
       "  </tbody>\n",
       "</table>\n",
       "</div>"
      ],
      "text/plain": [
       "   Gender   Age  Education  CurrentSmoker  CigsPerDay  BP Meds  \\\n",
       "0    Male  39.0        4.0            0.0         0.0      0.0   \n",
       "1  Female  46.0        2.0            0.0         0.0      0.0   \n",
       "2    Male  48.0        1.0            1.0        20.0      0.0   \n",
       "3  Female  61.0        3.0            1.0        30.0      0.0   \n",
       "4  Female  46.0        3.0            1.0        23.0      0.0   \n",
       "\n",
       "   PrevalentStroke  PrevalentHyp  Diabetes  Tot cholesterol  Systolic BP  \\\n",
       "0              0.0           0.0       0.0            195.0        106.0   \n",
       "1              0.0           0.0       0.0            250.0        121.0   \n",
       "2              0.0           0.0       0.0            245.0        127.5   \n",
       "3              0.0           1.0       0.0            225.0        150.0   \n",
       "4              0.0           0.0       0.0            285.0        130.0   \n",
       "\n",
       "   Diastolic BP    BMI  HeartRate  Glucose  Heart-Att  \n",
       "0          70.0  26.97       80.0     77.0          0  \n",
       "1          81.0  28.73       95.0     76.0          0  \n",
       "2          80.0  25.34       75.0     70.0          0  \n",
       "3          95.0  28.58       65.0    103.0          1  \n",
       "4          84.0  23.10       85.0     85.0          0  "
      ]
     },
     "execution_count": 23,
     "metadata": {},
     "output_type": "execute_result"
    }
   ],
   "source": [
    "import pandas as pd\n",
    "import numpy as np\n",
    "import matplotlib.pyplot as plt\n",
    "\n",
    "data = pd.read_csv(\"US_Heart_Patients.csv\")\n",
    "\n",
    "data.head()"
   ]
  },
  {
   "cell_type": "markdown",
   "id": "6fb01041",
   "metadata": {},
   "source": [
    "Prevalent Stroke - Stroke\n",
    "Systolic blood pressure is the measure of the pressure in the arteries when the heart beats (contracts)\n",
    "Diastolic blood pressure is the measure of the pressure in the arteries when the heart is resting between beats."
   ]
  },
  {
   "cell_type": "markdown",
   "id": "f33f903d",
   "metadata": {},
   "source": [
    "Type the Questions and your conclusions here itself so that you know what to do with your data\n",
    "Type the averages, min and max, the normal levels from google\n",
    "\n",
    "Habits of analysis are imp"
   ]
  },
  {
   "cell_type": "markdown",
   "id": "1872e820",
   "metadata": {},
   "source": [
    "### Descriptive Statistics : Min and Max Values, Averages and Quantile Analysis"
   ]
  },
  {
   "cell_type": "code",
   "execution_count": 24,
   "id": "9ba1072e",
   "metadata": {},
   "outputs": [
    {
     "data": {
      "text/html": [
       "<div>\n",
       "<style scoped>\n",
       "    .dataframe tbody tr th:only-of-type {\n",
       "        vertical-align: middle;\n",
       "    }\n",
       "\n",
       "    .dataframe tbody tr th {\n",
       "        vertical-align: top;\n",
       "    }\n",
       "\n",
       "    .dataframe thead th {\n",
       "        text-align: right;\n",
       "    }\n",
       "</style>\n",
       "<table border=\"1\" class=\"dataframe\">\n",
       "  <thead>\n",
       "    <tr style=\"text-align: right;\">\n",
       "      <th></th>\n",
       "      <th>Age</th>\n",
       "      <th>Education</th>\n",
       "      <th>CurrentSmoker</th>\n",
       "      <th>CigsPerDay</th>\n",
       "      <th>BP Meds</th>\n",
       "      <th>PrevalentStroke</th>\n",
       "      <th>PrevalentHyp</th>\n",
       "      <th>Diabetes</th>\n",
       "      <th>Tot cholesterol</th>\n",
       "      <th>Systolic BP</th>\n",
       "      <th>Diastolic BP</th>\n",
       "      <th>BMI</th>\n",
       "      <th>HeartRate</th>\n",
       "      <th>Glucose</th>\n",
       "      <th>Heart-Att</th>\n",
       "    </tr>\n",
       "  </thead>\n",
       "  <tbody>\n",
       "    <tr>\n",
       "      <th>count</th>\n",
       "      <td>4238.000000</td>\n",
       "      <td>4130.000000</td>\n",
       "      <td>4237.000000</td>\n",
       "      <td>4209.000000</td>\n",
       "      <td>4180.000000</td>\n",
       "      <td>4231.000000</td>\n",
       "      <td>4238.000000</td>\n",
       "      <td>4238.000000</td>\n",
       "      <td>4180.000000</td>\n",
       "      <td>4236.000000</td>\n",
       "      <td>4235.000000</td>\n",
       "      <td>4216.000000</td>\n",
       "      <td>4236.000000</td>\n",
       "      <td>3849.000000</td>\n",
       "      <td>4240.000000</td>\n",
       "    </tr>\n",
       "    <tr>\n",
       "      <th>mean</th>\n",
       "      <td>49.579283</td>\n",
       "      <td>1.979903</td>\n",
       "      <td>0.494218</td>\n",
       "      <td>9.001901</td>\n",
       "      <td>0.029665</td>\n",
       "      <td>0.005909</td>\n",
       "      <td>0.310524</td>\n",
       "      <td>0.025720</td>\n",
       "      <td>236.677273</td>\n",
       "      <td>132.362370</td>\n",
       "      <td>82.901889</td>\n",
       "      <td>25.798916</td>\n",
       "      <td>75.867800</td>\n",
       "      <td>81.951936</td>\n",
       "      <td>0.151887</td>\n",
       "    </tr>\n",
       "    <tr>\n",
       "      <th>std</th>\n",
       "      <td>8.572875</td>\n",
       "      <td>1.019943</td>\n",
       "      <td>0.500026</td>\n",
       "      <td>11.920742</td>\n",
       "      <td>0.169682</td>\n",
       "      <td>0.076650</td>\n",
       "      <td>0.462763</td>\n",
       "      <td>0.158316</td>\n",
       "      <td>44.616098</td>\n",
       "      <td>22.039244</td>\n",
       "      <td>11.914467</td>\n",
       "      <td>4.075256</td>\n",
       "      <td>11.999488</td>\n",
       "      <td>23.958428</td>\n",
       "      <td>0.358953</td>\n",
       "    </tr>\n",
       "    <tr>\n",
       "      <th>min</th>\n",
       "      <td>32.000000</td>\n",
       "      <td>1.000000</td>\n",
       "      <td>0.000000</td>\n",
       "      <td>0.000000</td>\n",
       "      <td>0.000000</td>\n",
       "      <td>0.000000</td>\n",
       "      <td>0.000000</td>\n",
       "      <td>0.000000</td>\n",
       "      <td>107.000000</td>\n",
       "      <td>83.500000</td>\n",
       "      <td>48.000000</td>\n",
       "      <td>15.540000</td>\n",
       "      <td>44.000000</td>\n",
       "      <td>40.000000</td>\n",
       "      <td>0.000000</td>\n",
       "    </tr>\n",
       "    <tr>\n",
       "      <th>25%</th>\n",
       "      <td>42.000000</td>\n",
       "      <td>1.000000</td>\n",
       "      <td>0.000000</td>\n",
       "      <td>0.000000</td>\n",
       "      <td>0.000000</td>\n",
       "      <td>0.000000</td>\n",
       "      <td>0.000000</td>\n",
       "      <td>0.000000</td>\n",
       "      <td>206.000000</td>\n",
       "      <td>117.000000</td>\n",
       "      <td>75.000000</td>\n",
       "      <td>23.070000</td>\n",
       "      <td>68.000000</td>\n",
       "      <td>71.000000</td>\n",
       "      <td>0.000000</td>\n",
       "    </tr>\n",
       "    <tr>\n",
       "      <th>50%</th>\n",
       "      <td>49.000000</td>\n",
       "      <td>2.000000</td>\n",
       "      <td>0.000000</td>\n",
       "      <td>0.000000</td>\n",
       "      <td>0.000000</td>\n",
       "      <td>0.000000</td>\n",
       "      <td>0.000000</td>\n",
       "      <td>0.000000</td>\n",
       "      <td>234.000000</td>\n",
       "      <td>128.000000</td>\n",
       "      <td>82.000000</td>\n",
       "      <td>25.395000</td>\n",
       "      <td>75.000000</td>\n",
       "      <td>78.000000</td>\n",
       "      <td>0.000000</td>\n",
       "    </tr>\n",
       "    <tr>\n",
       "      <th>75%</th>\n",
       "      <td>56.000000</td>\n",
       "      <td>3.000000</td>\n",
       "      <td>1.000000</td>\n",
       "      <td>20.000000</td>\n",
       "      <td>0.000000</td>\n",
       "      <td>0.000000</td>\n",
       "      <td>1.000000</td>\n",
       "      <td>0.000000</td>\n",
       "      <td>263.000000</td>\n",
       "      <td>144.000000</td>\n",
       "      <td>90.000000</td>\n",
       "      <td>28.040000</td>\n",
       "      <td>83.000000</td>\n",
       "      <td>87.000000</td>\n",
       "      <td>0.000000</td>\n",
       "    </tr>\n",
       "    <tr>\n",
       "      <th>max</th>\n",
       "      <td>70.000000</td>\n",
       "      <td>4.000000</td>\n",
       "      <td>1.000000</td>\n",
       "      <td>70.000000</td>\n",
       "      <td>1.000000</td>\n",
       "      <td>1.000000</td>\n",
       "      <td>1.000000</td>\n",
       "      <td>1.000000</td>\n",
       "      <td>696.000000</td>\n",
       "      <td>295.000000</td>\n",
       "      <td>142.500000</td>\n",
       "      <td>56.800000</td>\n",
       "      <td>143.000000</td>\n",
       "      <td>394.000000</td>\n",
       "      <td>1.000000</td>\n",
       "    </tr>\n",
       "  </tbody>\n",
       "</table>\n",
       "</div>"
      ],
      "text/plain": [
       "               Age    Education  CurrentSmoker   CigsPerDay      BP Meds  \\\n",
       "count  4238.000000  4130.000000    4237.000000  4209.000000  4180.000000   \n",
       "mean     49.579283     1.979903       0.494218     9.001901     0.029665   \n",
       "std       8.572875     1.019943       0.500026    11.920742     0.169682   \n",
       "min      32.000000     1.000000       0.000000     0.000000     0.000000   \n",
       "25%      42.000000     1.000000       0.000000     0.000000     0.000000   \n",
       "50%      49.000000     2.000000       0.000000     0.000000     0.000000   \n",
       "75%      56.000000     3.000000       1.000000    20.000000     0.000000   \n",
       "max      70.000000     4.000000       1.000000    70.000000     1.000000   \n",
       "\n",
       "       PrevalentStroke  PrevalentHyp     Diabetes  Tot cholesterol  \\\n",
       "count      4231.000000   4238.000000  4238.000000      4180.000000   \n",
       "mean          0.005909      0.310524     0.025720       236.677273   \n",
       "std           0.076650      0.462763     0.158316        44.616098   \n",
       "min           0.000000      0.000000     0.000000       107.000000   \n",
       "25%           0.000000      0.000000     0.000000       206.000000   \n",
       "50%           0.000000      0.000000     0.000000       234.000000   \n",
       "75%           0.000000      1.000000     0.000000       263.000000   \n",
       "max           1.000000      1.000000     1.000000       696.000000   \n",
       "\n",
       "       Systolic BP  Diastolic BP          BMI    HeartRate      Glucose  \\\n",
       "count  4236.000000   4235.000000  4216.000000  4236.000000  3849.000000   \n",
       "mean    132.362370     82.901889    25.798916    75.867800    81.951936   \n",
       "std      22.039244     11.914467     4.075256    11.999488    23.958428   \n",
       "min      83.500000     48.000000    15.540000    44.000000    40.000000   \n",
       "25%     117.000000     75.000000    23.070000    68.000000    71.000000   \n",
       "50%     128.000000     82.000000    25.395000    75.000000    78.000000   \n",
       "75%     144.000000     90.000000    28.040000    83.000000    87.000000   \n",
       "max     295.000000    142.500000    56.800000   143.000000   394.000000   \n",
       "\n",
       "         Heart-Att  \n",
       "count  4240.000000  \n",
       "mean      0.151887  \n",
       "std       0.358953  \n",
       "min       0.000000  \n",
       "25%       0.000000  \n",
       "50%       0.000000  \n",
       "75%       0.000000  \n",
       "max       1.000000  "
      ]
     },
     "execution_count": 24,
     "metadata": {},
     "output_type": "execute_result"
    }
   ],
   "source": [
    "data.describe()"
   ]
  },
  {
   "cell_type": "markdown",
   "id": "b1084f9d",
   "metadata": {},
   "source": [
    "###### Analysis (Inferences) :\n",
    "1. Min and Max Values\n",
    "1. BoxPlots\n",
    "\n",
    "\n",
    "###### Questions"
   ]
  },
  {
   "cell_type": "markdown",
   "id": "04f66ad0",
   "metadata": {},
   "source": [
    "#### Box Plots"
   ]
  },
  {
   "cell_type": "code",
   "execution_count": 31,
   "id": "35c54ca0",
   "metadata": {
    "scrolled": true
   },
   "outputs": [
    {
     "data": {
      "text/plain": [
       "<matplotlib.lines.Line2D at 0x7fa355afce80>"
      ]
     },
     "execution_count": 31,
     "metadata": {},
     "output_type": "execute_result"
    },
    {
     "data": {
      "image/png": "[encoded data removed]",
      "text/plain": [
       "<Figure size 432x288 with 1 Axes>"
      ]
     },
     "metadata": {},
     "output_type": "display_data"
    }
   ],
   "source": [
    "data.boxplot(column =['BMI'], grid = False)\n",
    "## BMI OF MOST OF THE PATIENTS IN OUR DATA IS HIGH\n",
    "## Normal is 18.5 to 24.9\n",
    "plt.axhline(18.5, c='r')\n",
    "plt.axhline(24.9, c='r')"
   ]
  },
  {
   "cell_type": "code",
   "execution_count": null,
   "id": "02ca6235",
   "metadata": {},
   "outputs": [],
   "source": [
    "## How much percent of Patients who have heart attack have high BMI\n"
   ]
  },
  {
   "cell_type": "code",
   "execution_count": 34,
   "id": "6f5dafba",
   "metadata": {},
   "outputs": [
    {
     "data": {
      "text/plain": [
       "<matplotlib.lines.Line2D at 0x7fa355b3d280>"
      ]
     },
     "execution_count": 34,
     "metadata": {},
     "output_type": "execute_result"
    },
    {
     "data": {
      "image/png": "[encoded data removed]",
      "text/plain": [
       "<Figure size 432x288 with 2 Axes>"
      ]
     },
     "metadata": {},
     "output_type": "display_data"
    }
   ],
   "source": [
    "# For Systolic and Diastolic BP\n",
    "# Normal is 120/80\n",
    "\n",
    "plt.subplot(1, 2, 1)\n",
    "data.boxplot(column =['Systolic BP'], grid = False)\n",
    "plt.axhline(120, c='r')\n",
    "\n",
    "plt.subplot(1, 2, 2)\n",
    "data.boxplot(column =['Diastolic BP'], grid = False)\n",
    "plt.axhline(80, c='r')"
   ]
  },
  {
   "cell_type": "markdown",
   "id": "118be955",
   "metadata": {},
   "source": [
    "### Null Values Analysis"
   ]
  },
  {
   "cell_type": "code",
   "execution_count": 32,
   "id": "2e434961",
   "metadata": {
    "scrolled": false
   },
   "outputs": [
    {
     "name": "stdout",
     "output_type": "stream",
     "text": [
      "Gender               8\n",
      "Age                  2\n",
      "Education          110\n",
      "CurrentSmoker        3\n",
      "CigsPerDay          31\n",
      "BP Meds             60\n",
      "PrevalentStroke      9\n",
      "PrevalentHyp         2\n",
      "Diabetes             2\n",
      "Tot cholesterol     60\n",
      "Systolic BP          4\n",
      "Diastolic BP         5\n",
      "BMI                 24\n",
      "HeartRate            4\n",
      "Glucose            391\n",
      "Heart-Att            0\n",
      "dtype: int64\n"
     ]
    }
   ],
   "source": [
    "## Count and remove NULL values\n",
    "print(data.isnull().sum())"
   ]
  },
  {
   "cell_type": "code",
   "execution_count": 33,
   "id": "7aa4cbb5",
   "metadata": {},
   "outputs": [
    {
     "name": "stdout",
     "output_type": "stream",
     "text": [
      "Gender             0.188679\n",
      "Age                0.047170\n",
      "Education          2.594340\n",
      "CurrentSmoker      0.070755\n",
      "CigsPerDay         0.731132\n",
      "BP Meds            1.415094\n",
      "PrevalentStroke    0.212264\n",
      "PrevalentHyp       0.047170\n",
      "Diabetes           0.047170\n",
      "Tot cholesterol    1.415094\n",
      "Systolic BP        0.094340\n",
      "Diastolic BP       0.117925\n",
      "BMI                0.566038\n",
      "HeartRate          0.094340\n",
      "Glucose            9.221698\n",
      "Heart-Att          0.000000\n",
      "dtype: float64\n"
     ]
    }
   ],
   "source": [
    "## Percentage of total\n",
    "total = len(data)\n",
    "print((data.isnull().sum()/total) * 100)\n",
    "\n",
    "# Drop all the null Values\n",
    "data.dropna(inplace = True, how = 'any')"
   ]
  },
  {
   "cell_type": "markdown",
   "id": "204f8944",
   "metadata": {},
   "source": [
    "### Percentage of patients who have heart conditions"
   ]
  },
  {
   "cell_type": "code",
   "execution_count": 5,
   "id": "c6b55275",
   "metadata": {},
   "outputs": [
    {
     "name": "stdout",
     "output_type": "stream",
     "text": [
      "Patients with Heart Condition : 15.07 % Patients without Heart Condition : 84.93 %\n"
     ]
    },
    {
     "data": {
      "image/png": "[encoded data removed]",
      "text/plain": [
       "<Figure size 432x288 with 1 Axes>"
      ]
     },
     "metadata": {},
     "output_type": "display_data"
    }
   ],
   "source": [
    "no_with_heart_condition = data['Heart-Att'][data['Heart-Att'] == 1].count()\n",
    "no_without_heart_condition = data['Heart-Att'][data['Heart-Att'] == 0].count()\n",
    "total = data['Heart-Att'].count()\n",
    "percent_1 = (no_with_heart_condition / total) * 100\n",
    "percent_2 = (no_without_heart_condition / total) * 100\n",
    "print(\"Patients with Heart Condition :\", \"{:.2f}\".format(percent_1), \"%\", end = \" \")\n",
    "print(\"Patients without Heart Condition :\", \"{:.2f}\".format(percent_2), \"%\")\n",
    "\n",
    "\n",
    "\n",
    "labels = ['Heart Attack', 'No Heart attack']\n",
    "colors = ['blue', 'yellow']\n",
    "sizes = [percent_1, percent_2]\n",
    "plt.pie(sizes, labels = labels, colors = colors, startangle = 90, autopct = '%1.2f%%')\n",
    "plt.axis('equal')\n",
    "plt.show()"
   ]
  },
  {
   "cell_type": "markdown",
   "id": "aac753d9",
   "metadata": {},
   "source": [
    "### Percentage of Male and Female"
   ]
  },
  {
   "cell_type": "code",
   "execution_count": 6,
   "id": "f01eeba5",
   "metadata": {},
   "outputs": [
    {
     "name": "stdout",
     "output_type": "stream",
     "text": [
      "['Male', 'Female']\n",
      "Percentage of Males : 44.58 % Percentage of Females : 55.42 %\n"
     ]
    },
    {
     "data": {
      "image/png": "[encoded data removed]",
      "text/plain": [
       "<Figure size 432x288 with 1 Axes>"
      ]
     },
     "metadata": {},
     "output_type": "display_data"
    }
   ],
   "source": [
    "# IN this case, number is just enough\n",
    "# Visualise everything related to label. \n",
    "\n",
    "print(data[\"Gender\"].unique().tolist())\n",
    "\n",
    "male = data['Gender'][data['Gender'] == \"Male\"].count()\n",
    "female = data['Gender'][data['Gender'] == \"Female\"].count()\n",
    "total = data['Gender'].count()\n",
    "\n",
    "percent_1 = (male / total) * 100\n",
    "percent_2 = (female / total) * 100\n",
    "\n",
    "print(\"Percentage of Males :\", \"{:.2f}\".format(percent_1), \"%\", end = \" \")\n",
    "print(\"Percentage of Females :\", \"{:.2f}\".format(percent_2), \"%\")\n",
    "\n",
    "labels = ['Male', 'Female']\n",
    "colors = ['blue', 'yellow']\n",
    "sizes = [percent_1, percent_2]\n",
    "plt.pie(sizes, labels = labels, colors = colors, startangle = 90, autopct = '%1.2f%%')\n",
    "plt.axis('equal')\n",
    "plt.show()"
   ]
  },
  {
   "cell_type": "markdown",
   "id": "e93efcd4",
   "metadata": {},
   "source": [
    "### Percentage of Males by Heart Condition"
   ]
  },
  {
   "cell_type": "code",
   "execution_count": 7,
   "id": "687ef54e",
   "metadata": {},
   "outputs": [
    {
     "data": {
      "image/png": "[encoded data removed]",
      "text/plain": [
       "<Figure size 432x288 with 1 Axes>"
      ]
     },
     "metadata": {},
     "output_type": "display_data"
    }
   ],
   "source": [
    "# If we know the males have, then dont have doesnt matter. Sum up the information into one chart\n",
    "# Dont plot unnecessary charts. Just number is better\n",
    "\n",
    "grp = data.groupby(['Gender', 'Heart-Att'])\n",
    "males_with_heart_condition = grp.get_group(('Male', 1))\n",
    "males_without_heart_condition = grp.get_group(('Male', 0))\n",
    "\n",
    "total = data['Gender'][data['Gender'] == 'Male'].count()\n",
    "no_males_with_heart_condition = grp.get_group(('Male', 1))['Gender'].count()\n",
    "no_males_without_heart_condition = grp.get_group(('Male', 0))['Gender'].count()\n",
    "\n",
    "\n",
    "labels = ['Males with Heart Condition', 'Males without Heart Condition']\n",
    "colors = ['blue', 'yellow']\n",
    "sizes = [no_males_with_heart_condition, no_males_without_heart_condition]\n",
    "plt.pie(sizes, labels = labels, colors = colors, startangle = 90, autopct = '%1.2f%%')\n",
    "plt.axis('equal')\n",
    "plt.show()"
   ]
  },
  {
   "cell_type": "markdown",
   "id": "229c21fd",
   "metadata": {},
   "source": [
    "### Percentage of Females by Heart Condition"
   ]
  },
  {
   "cell_type": "code",
   "execution_count": 8,
   "id": "1f0344c9",
   "metadata": {},
   "outputs": [
    {
     "data": {
      "image/png": "[encoded data removed]",
      "text/plain": [
       "<Figure size 432x288 with 1 Axes>"
      ]
     },
     "metadata": {},
     "output_type": "display_data"
    }
   ],
   "source": [
    "females_with_heart_condition = grp.get_group(('Female', 1))\n",
    "females_without_heart_condition = grp.get_group(('Female', 0))\n",
    "\n",
    "total = data['Gender'][data['Gender'] == 'Female'].count()\n",
    "no_females_with_heart_condition = grp.get_group(('Female', 1))['Gender'].count()\n",
    "no_females_without_heart_condition = grp.get_group(('Female', 0))['Gender'].count()\n",
    "\n",
    "\n",
    "labels = ['Females with Heart Condition', 'Females without Heart Condition']\n",
    "colors = ['blue', 'yellow']\n",
    "sizes = [no_females_with_heart_condition, no_females_without_heart_condition]\n",
    "plt.pie(sizes, labels = labels, colors = colors, startangle = 90, autopct = '%1.2f%%')\n",
    "plt.axis('equal')\n",
    "plt.show()"
   ]
  },
  {
   "cell_type": "markdown",
   "id": "d1e42d48",
   "metadata": {},
   "source": [
    "### Average age of Patients by Heart Condition"
   ]
  },
  {
   "cell_type": "code",
   "execution_count": 9,
   "id": "c9a335ae",
   "metadata": {},
   "outputs": [
    {
     "data": {
      "text/plain": [
       "Heart-Att\n",
       "0    48.689678\n",
       "1    54.247706\n",
       "Name: Age, dtype: float64"
      ]
     },
     "execution_count": 9,
     "metadata": {},
     "output_type": "execute_result"
    }
   ],
   "source": [
    "# table = pd.pivot_table(data, columns = 'Heart-Att', index = \"Age\", aggfunc = np.average)\n",
    "# table.fillna(0)\n",
    "\n",
    "data.groupby('Heart-Att')['Age'].mean()"
   ]
  },
  {
   "cell_type": "markdown",
   "id": "375f3b61",
   "metadata": {},
   "source": [
    "### Average Systolic BP of Patients by Heart Condition"
   ]
  },
  {
   "cell_type": "code",
   "execution_count": 10,
   "id": "401bd8a9",
   "metadata": {},
   "outputs": [
    {
     "data": {
      "text/plain": [
       "Heart-Att\n",
       "0    130.31423\n",
       "1    143.83578\n",
       "Name: Systolic BP, dtype: float64"
      ]
     },
     "execution_count": 10,
     "metadata": {},
     "output_type": "execute_result"
    }
   ],
   "source": [
    "data.groupby('Heart-Att')['Systolic BP'].mean()"
   ]
  },
  {
   "cell_type": "markdown",
   "id": "db887338",
   "metadata": {},
   "source": [
    "### Average BMI of Patients by Heart Condition"
   ]
  },
  {
   "cell_type": "code",
   "execution_count": 11,
   "id": "f53379c8",
   "metadata": {},
   "outputs": [
    {
     "data": {
      "text/plain": [
       "Heart-Att\n",
       "0    25.649515\n",
       "1    26.541798\n",
       "Name: BMI, dtype: float64"
      ]
     },
     "execution_count": 11,
     "metadata": {},
     "output_type": "execute_result"
    }
   ],
   "source": [
    "data.groupby('Heart-Att')['BMI'].mean()"
   ]
  },
  {
   "cell_type": "markdown",
   "id": "df592dd7",
   "metadata": {},
   "source": [
    "### % of patients having diabetes by heart condition"
   ]
  },
  {
   "cell_type": "code",
   "execution_count": 12,
   "id": "4b8f50e5",
   "metadata": {},
   "outputs": [
    {
     "name": "stdout",
     "output_type": "stream",
     "text": [
      "Percentage of People with Diabetes and Heart Condition : 0.97 % Percentage of People with No Diabetes and Heart Condition : 14.10 %\n"
     ]
    },
    {
     "data": {
      "image/png": "[encoded data removed]",
      "text/plain": [
       "<Figure size 432x288 with 1 Axes>"
      ]
     },
     "metadata": {},
     "output_type": "display_data"
    }
   ],
   "source": [
    "with_diabetes_heart_condition = data['Diabetes'][(data[\"Diabetes\"] == 1) & (data[\"Heart-Att\"] == 1)].count()\n",
    "with_no_diabetes_heart_condition = data['Diabetes'][(data[\"Diabetes\"] == 0) & (data[\"Heart-Att\"] == 1)].count()\n",
    "total = data['Diabetes'].count()\n",
    "\n",
    "percent_1 = (with_diabetes_heart_condition / total) * 100\n",
    "percent_2 = (with_no_diabetes_heart_condition / total) * 100\n",
    "\n",
    "print(\"Percentage of People with Diabetes and Heart Condition :\", \"{:.2f}\".format(percent_1), \"%\", end = \" \")\n",
    "print(\"Percentage of People with No Diabetes and Heart Condition :\", \"{:.2f}\".format(percent_2), \"%\")\n",
    "\n",
    "labels = ['Percentage of People with Diabetes and Heart Condition', 'Percentage of People with No Diabetes and Heart Condition']\n",
    "colors = ['blue', 'yellow']\n",
    "sizes = [percent_1, percent_2]\n",
    "plt.pie(sizes, labels = labels, colors = colors, startangle = 90, autopct = '%1.2f%%')\n",
    "plt.axis('equal')\n",
    "plt.show()"
   ]
  },
  {
   "cell_type": "code",
   "execution_count": 13,
   "id": "17e5bda8",
   "metadata": {
    "scrolled": true
   },
   "outputs": [
    {
     "name": "stdout",
     "output_type": "stream",
     "text": [
      "Percentage of People with Diabetes and No Heart Condition : 1.71 % Percentage of People with No Diabetes and No Heart Condition : 83.21 %\n"
     ]
    },
    {
     "data": {
      "image/png": "[encoded data removed]",
      "text/plain": [
       "<Figure size 432x288 with 1 Axes>"
      ]
     },
     "metadata": {},
     "output_type": "display_data"
    }
   ],
   "source": [
    "with_diabetes_no_heart_condition = data['Diabetes'][(data[\"Diabetes\"] == 1) & (data[\"Heart-Att\"] == 0)].count()\n",
    "with_no_diabetes_no_heart_condition = data['Diabetes'][(data[\"Diabetes\"] == 0) & (data[\"Heart-Att\"] == 0)].count()\n",
    "total = data['Diabetes'].count()\n",
    "\n",
    "percent_1 = (with_diabetes_no_heart_condition / total) * 100\n",
    "percent_2 = (with_no_diabetes_no_heart_condition / total) * 100\n",
    "\n",
    "print(\"Percentage of People with Diabetes and No Heart Condition :\", \"{:.2f}\".format(percent_1), \"%\", end = \" \")\n",
    "print(\"Percentage of People with No Diabetes and No Heart Condition :\", \"{:.2f}\".format(percent_2), \"%\")\n",
    "\n",
    "labels = ['Percentage of People with Diabetes and No Heart Condition', 'Percentage of People with No Diabetes and No Heart Condition']\n",
    "colors = ['blue', 'yellow']\n",
    "sizes = [percent_1, percent_2]\n",
    "plt.pie(sizes, labels = labels, colors = colors, startangle = 90, autopct = '%1.2f%%')\n",
    "plt.axis('equal')\n",
    "plt.show()"
   ]
  },
  {
   "cell_type": "markdown",
   "id": "1cb2345e",
   "metadata": {},
   "source": [
    "### Who is more prone to heart condition (Male or Female)?"
   ]
  },
  {
   "cell_type": "code",
   "execution_count": 14,
   "id": "5c49d0ce",
   "metadata": {},
   "outputs": [
    {
     "data": {
      "text/plain": [
       "'Male'"
      ]
     },
     "execution_count": 14,
     "metadata": {},
     "output_type": "execute_result"
    }
   ],
   "source": [
    "# Here you should have plotted the pie charts\n",
    "\n",
    "grp = data.groupby(['Gender', 'Heart-Att'])\n",
    "\n",
    "no_males_with_heart_condition = grp.get_group(('Male', 1))['Gender'].count()\n",
    "no_females_with_heart_condition = grp.get_group(('Female', 1))['Gender'].count()\n",
    "\n",
    "who:str = \"Male\" if no_males_with_heart_condition > no_females_with_heart_condition else \"Female\"\n",
    "who"
   ]
  },
  {
   "cell_type": "markdown",
   "id": "8c79b3f2",
   "metadata": {},
   "source": [
    "### Feature Importance Classification"
   ]
  },
  {
   "cell_type": "code",
   "execution_count": 17,
   "id": "8765cbff",
   "metadata": {},
   "outputs": [
    {
     "name": "stderr",
     "output_type": "stream",
     "text": [
      "/var/folders/dq/zq2spyr52zjfyw178gk_b_900000gn/T/ipykernel_15978/958516183.py:4: DeprecationWarning: `np.bool` is a deprecated alias for the builtin `bool`. To silence this warning, use `bool` by itself. Doing this will not modify any behavior and is safe. If you specifically wanted the numpy scalar type, use `np.bool_` here.\n",
      "Deprecated in NumPy 1.20; for more details and guidance: https://numpy.org/devdocs/release/1.20.0-notes.html#deprecations\n",
      "  mask = np.triu(np.ones_like(corr, dtype=np.bool))\n"
     ]
    },
    {
     "data": {
      "text/plain": [
       "<AxesSubplot:>"
      ]
     },
     "execution_count": 17,
     "metadata": {},
     "output_type": "execute_result"
    },
    {
     "data": {
      "image/png": "[encoded data removed]",
      "text/plain": [
       "<Figure size 792x648 with 2 Axes>"
      ]
     },
     "metadata": {},
     "output_type": "display_data"
    }
   ],
   "source": [
    "import seaborn as sns\n",
    "\n",
    "corr = data.corr()\n",
    "mask = np.triu(np.ones_like(corr, dtype=np.bool))\n",
    "sns.set_style(style = 'white')\n",
    "f, ax = plt.subplots(figsize=(11, 9))\n",
    "cmap = sns.diverging_palette(10, 250, as_cmap=True) \n",
    "sns.heatmap(corr, mask=mask, cmap=cmap, \n",
    "        square=True,\n",
    "        linewidths=.5, cbar_kws={\"shrink\": .5}, ax=ax)"
   ]
  },
  {
   "cell_type": "markdown",
   "id": "1b830606",
   "metadata": {},
   "source": [
    "We only need to predict the final column, so only look at last row\n",
    "\n",
    "More highly correlated is better, so remove the white ones (Less correlation)"
   ]
  },
  {
   "cell_type": "code",
   "execution_count": 43,
   "id": "ba783fd5",
   "metadata": {},
   "outputs": [
    {
     "name": "stdout",
     "output_type": "stream",
     "text": [
      "0.786711889738849\n"
     ]
    }
   ],
   "source": [
    "print(data['Diastolic BP'].corr(data['Systolic BP']))"
   ]
  },
  {
   "cell_type": "code",
   "execution_count": 44,
   "id": "a4fab3a8",
   "metadata": {},
   "outputs": [
    {
     "name": "stdout",
     "output_type": "stream",
     "text": [
      "0.09299888739774236\n"
     ]
    }
   ],
   "source": [
    "print(data['Heart-Att'].corr(data['BP Meds']))"
   ]
  }
 ],
 "metadata": {
  "kernelspec": {
   "display_name": "Python 3 (ipykernel)",
   "language": "python",
   "name": "python3"
  },
  "language_info": {
   "codemirror_mode": {
    "name": "ipython",
    "version": 3
   },
   "file_extension": ".py",
   "mimetype": "text/x-python",
   "name": "python",
   "nbconvert_exporter": "python",
   "pygments_lexer": "ipython3",
   "version": "3.9.7"
  }
 },
 "nbformat": 4,
 "nbformat_minor": 5
}
